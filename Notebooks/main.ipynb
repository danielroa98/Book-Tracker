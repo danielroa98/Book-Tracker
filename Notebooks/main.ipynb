{
 "cells": [
  {
   "cell_type": "code",
   "execution_count": 1,
   "metadata": {},
   "outputs": [
    {
     "data": {
      "text/plain": [
       "True"
      ]
     },
     "execution_count": 1,
     "metadata": {},
     "output_type": "execute_result"
    }
   ],
   "source": [
    "import requests\n",
    "from requests.exceptions import HTTPError\n",
    "import os\n",
    "from pyzbar.pyzbar import decode\n",
    "from PIL import Image\n",
    "import isbnlib\n",
    "import streamlit as st\n",
    "import time\n",
    "from googleapiclient.discovery import build\n",
    "from googleapiclient.errors import HttpError\n",
    "from dotenv import load_dotenv\n",
    "\n",
    "load_dotenv()"
   ]
  },
  {
   "cell_type": "code",
   "execution_count": null,
   "metadata": {},
   "outputs": [],
   "source": [
    "GOOGLE_BOOKS_API_KEY = os.getenv(\"GOOGLE_BOOKS_API_KEY\")"
   ]
  },
  {
   "cell_type": "code",
   "execution_count": 3,
   "metadata": {},
   "outputs": [],
   "source": [
    "def get_google_book_by_isbn(isbn: str) -> dict | None:\n",
    "    try:\n",
    "        service = build(\"books\", \"v1\", developerKey=GOOGLE_BOOKS_API_KEY)\n",
    "        request = service.volumes().list(q=f\"isbn:{isbn}\")\n",
    "        res = request.execute()\n",
    "        if \"items\" in res:\n",
    "            return res[\"items\"][0][\"volumeInfo\"]\n",
    "        else:\n",
    "            return {}\n",
    "    except HttpError as e:\n",
    "        return {\"error\": f\"An error occurred while fetching the book information.\\n{e}\"}"
   ]
  },
  {
   "cell_type": "code",
   "execution_count": 12,
   "metadata": {},
   "outputs": [],
   "source": [
    "def get_basic_info(isbn: str):\n",
    "    \"\"\"Get a Book's Basic Information.\n",
    "\n",
    "    Retrieves book information based on the provided ISBN.\n",
    "\n",
    "    Parameters:\n",
    "        isbn (str): The ISBN of the book.\n",
    "    Returns:\n",
    "        dict: A dictionary containing the book information.\n",
    "\n",
    "    \"\"\"\n",
    "    book_info = {}\n",
    "    book_info_unclean = get_google_book_by_isbn(isbn)\n",
    "    book_info = {\n",
    "        \"Title\": book_info_unclean.get(\"title\", \"\"),\n",
    "        \"Authors\": book_info_unclean.get(\"authors\", []),\n",
    "        \"Publisher\": book_info_unclean.get(\"publisher\", \"\"),\n",
    "        \"Year\": book_info_unclean.get(\"publishedDate\", \"\").split(\"-\")[0],\n",
    "        \"description\": book_info_unclean.get(\"description\", \"\"),\n",
    "        \"pageCount\": book_info_unclean.get(\"pageCount\", \"\"),\n",
    "        \"categories\": book_info_unclean.get(\"categories\", []),\n",
    "        \"averageRating\": book_info_unclean.get(\"averageRating\", \"\"),\n",
    "        \"thumbnail\": book_info_unclean.get(\"thumbnail\", \"\"),\n",
    "        \"infoLink\": book_info_unclean.get(\"infoLink\", \"\"),\n",
    "    }\n",
    "    return book_info"
   ]
  },
  {
   "cell_type": "code",
   "execution_count": 4,
   "metadata": {},
   "outputs": [],
   "source": [
    "isbn_tests = [\"9781982110574\", \"9781668022283\", \"9788433966223\"]"
   ]
  },
  {
   "cell_type": "code",
   "execution_count": 5,
   "metadata": {},
   "outputs": [
    {
     "name": "stdout",
     "output_type": "stream",
     "text": [
      "{'title': 'The Institute', 'subtitle': 'A Novel', 'authors': ['Stephen King'], 'publisher': 'Simon and Schuster', 'publishedDate': '2021-06-29', 'description': 'In the middle of the night, in a house on a quiet street in suburban Minneapolis, intruders silently murder Luke Ellis\\' parents and load him into a black SUV. The operation takes less than two minutes. Luke will wake up at The Institute, in a room that looks just like his own, except there\\'s no window. And outside his door are other doors, behind which are other kids with special talents--telekinesis and telepathy--who got to this place the same way Luke did: Kalisha, Nick, George, Iris, and 10-year-old Avery Dixon. They are all in Front Half. Others, Luke learns, graduated to Back Half, \"like the roach motel,\" Kalisha says. \"You check in, but you don\\'t check out.\" In this most sinister of institutions, the director, Mrs. Sigsby, and her staff are ruthlessly dedicated to extracting from these children the force of their extranormal gifts. There are no scruples here. If you go along, you get tokens for the vending machines. If you don\\'t, punishment is brutal. As each new victim disappears to Back Half, Luke becomes more and more desperate to get out and get help. But no one has ever escaped from The Institute.', 'industryIdentifiers': [{'type': 'ISBN_13', 'identifier': '9781982110574'}, {'type': 'ISBN_10', 'identifier': '1982110570'}], 'readingModes': {'text': False, 'image': False}, 'pageCount': 672, 'printType': 'BOOK', 'categories': ['Fiction'], 'maturityRating': 'NOT_MATURE', 'allowAnonLogging': False, 'contentVersion': '0.0.1.0.preview.0', 'panelizationSummary': {'containsEpubBubbles': False, 'containsImageBubbles': False}, 'imageLinks': {'smallThumbnail': 'http://books.google.com/books/content?id=tRExEAAAQBAJ&printsec=frontcover&img=1&zoom=5&edge=curl&source=gbs_api', 'thumbnail': 'http://books.google.com/books/content?id=tRExEAAAQBAJ&printsec=frontcover&img=1&zoom=1&edge=curl&source=gbs_api'}, 'language': 'en', 'previewLink': 'http://books.google.com.mx/books?id=tRExEAAAQBAJ&printsec=frontcover&dq=isbn:9781982110574&hl=&cd=1&source=gbs_api', 'infoLink': 'http://books.google.com.mx/books?id=tRExEAAAQBAJ&dq=isbn:9781982110574&hl=&source=gbs_api', 'canonicalVolumeLink': 'https://books.google.com/books/about/The_Institute.html?hl=&id=tRExEAAAQBAJ'}\n",
      "{'title': 'The Land of Lost Things', 'subtitle': 'A Novel', 'authors': ['John Connolly'], 'publisher': 'Simon and Schuster', 'publishedDate': '2023-09-19', 'description': '\"Phoebe, an eight-year-old girl, lies comatose following a car accident, a body without a spirit. Ceres, her mother, can only sit by her bedside and read aloud the fairy stories Phoebe loves in the hope they might summon her back to this world. But an old house on the hospital grounds, a property connected to a book written by a vanished author, is calling to Ceres. Something wants her to enter, to journey to a land colored by the memories of childhood, and the folklore beloved of her father, a land of witches and dryads, giants and mandrakes--a land where old enemies are watching and waiting?\"--]cProvided by publisher.', 'industryIdentifiers': [{'type': 'ISBN_13', 'identifier': '9781668022283'}, {'type': 'ISBN_10', 'identifier': '1668022281'}], 'readingModes': {'text': False, 'image': False}, 'pageCount': 368, 'printType': 'BOOK', 'categories': ['Fiction'], 'maturityRating': 'NOT_MATURE', 'allowAnonLogging': False, 'contentVersion': '1.2.1.0.preview.0', 'panelizationSummary': {'containsEpubBubbles': False, 'containsImageBubbles': False}, 'imageLinks': {'smallThumbnail': 'http://books.google.com/books/content?id=Sx21EAAAQBAJ&printsec=frontcover&img=1&zoom=5&edge=curl&source=gbs_api', 'thumbnail': 'http://books.google.com/books/content?id=Sx21EAAAQBAJ&printsec=frontcover&img=1&zoom=1&edge=curl&source=gbs_api'}, 'language': 'en', 'previewLink': 'http://books.google.com.mx/books?id=Sx21EAAAQBAJ&printsec=frontcover&dq=isbn:9781668022283&hl=&cd=1&source=gbs_api', 'infoLink': 'http://books.google.com.mx/books?id=Sx21EAAAQBAJ&dq=isbn:9781668022283&hl=&source=gbs_api', 'canonicalVolumeLink': 'https://books.google.com/books/about/The_Land_of_Lost_Things.html?hl=&id=Sx21EAAAQBAJ'}\n",
      "{'title': 'Novecento', 'subtitle': 'La leyenda del pianista en el océano', 'authors': ['Alessandro Baricco'], 'publisher': 'Anagrama', 'publishedDate': '1999-02', 'description': 'En los años de entreguerras, un transatlántico, el Virginian, recorría las rutas entre Europa y América, con su carga de millonarios, de turistas, de emigrantes... en el Virginian tocaba cada noche un pianista extraordinario, llamado Novecento, con una té', 'industryIdentifiers': [{'type': 'ISBN_10', 'identifier': '8433966227'}, {'type': 'ISBN_13', 'identifier': '9788433966223'}], 'readingModes': {'text': False, 'image': False}, 'pageCount': 0, 'printType': 'BOOK', 'categories': ['Fiction'], 'maturityRating': 'NOT_MATURE', 'allowAnonLogging': False, 'contentVersion': 'preview-1.0.0', 'panelizationSummary': {'containsEpubBubbles': False, 'containsImageBubbles': False}, 'imageLinks': {'smallThumbnail': 'http://books.google.com/books/content?id=1ExPSAAACAAJ&printsec=frontcover&img=1&zoom=5&source=gbs_api', 'thumbnail': 'http://books.google.com/books/content?id=1ExPSAAACAAJ&printsec=frontcover&img=1&zoom=1&source=gbs_api'}, 'language': 'es', 'previewLink': 'http://books.google.com.mx/books?id=1ExPSAAACAAJ&dq=isbn:9788433966223&hl=&cd=1&source=gbs_api', 'infoLink': 'http://books.google.com.mx/books?id=1ExPSAAACAAJ&dq=isbn:9788433966223&hl=&source=gbs_api', 'canonicalVolumeLink': 'https://books.google.com/books/about/Novecento.html?hl=&id=1ExPSAAACAAJ'}\n"
     ]
    }
   ],
   "source": [
    "for isbn in isbn_tests:\n",
    "    print(get_google_book_by_isbn(isbn))"
   ]
  },
  {
   "cell_type": "code",
   "execution_count": 13,
   "metadata": {},
   "outputs": [
    {
     "name": "stdout",
     "output_type": "stream",
     "text": [
      "{'Title': 'The Institute', 'Authors': ['Stephen King'], 'Publisher': 'Simon and Schuster', 'Year': '2021', 'description': 'In the middle of the night, in a house on a quiet street in suburban Minneapolis, intruders silently murder Luke Ellis\\' parents and load him into a black SUV. The operation takes less than two minutes. Luke will wake up at The Institute, in a room that looks just like his own, except there\\'s no window. And outside his door are other doors, behind which are other kids with special talents--telekinesis and telepathy--who got to this place the same way Luke did: Kalisha, Nick, George, Iris, and 10-year-old Avery Dixon. They are all in Front Half. Others, Luke learns, graduated to Back Half, \"like the roach motel,\" Kalisha says. \"You check in, but you don\\'t check out.\" In this most sinister of institutions, the director, Mrs. Sigsby, and her staff are ruthlessly dedicated to extracting from these children the force of their extranormal gifts. There are no scruples here. If you go along, you get tokens for the vending machines. If you don\\'t, punishment is brutal. As each new victim disappears to Back Half, Luke becomes more and more desperate to get out and get help. But no one has ever escaped from The Institute.', 'pageCount': 672, 'categories': ['Fiction'], 'averageRating': '', 'thumbnail': '', 'infoLink': 'http://books.google.com.mx/books?id=tRExEAAAQBAJ&dq=isbn:9781982110574&hl=&source=gbs_api'}\n",
      "{'Title': 'The Land of Lost Things', 'Authors': ['John Connolly'], 'Publisher': 'Simon and Schuster', 'Year': '2023', 'description': '\"Phoebe, an eight-year-old girl, lies comatose following a car accident, a body without a spirit. Ceres, her mother, can only sit by her bedside and read aloud the fairy stories Phoebe loves in the hope they might summon her back to this world. But an old house on the hospital grounds, a property connected to a book written by a vanished author, is calling to Ceres. Something wants her to enter, to journey to a land colored by the memories of childhood, and the folklore beloved of her father, a land of witches and dryads, giants and mandrakes--a land where old enemies are watching and waiting?\"--]cProvided by publisher.', 'pageCount': 368, 'categories': ['Fiction'], 'averageRating': '', 'thumbnail': '', 'infoLink': 'http://books.google.com.mx/books?id=Sx21EAAAQBAJ&dq=isbn:9781668022283&hl=&source=gbs_api'}\n",
      "{'Title': 'Novecento', 'Authors': ['Alessandro Baricco'], 'Publisher': 'Anagrama', 'Year': '1999', 'description': 'En los años de entreguerras, un transatlántico, el Virginian, recorría las rutas entre Europa y América, con su carga de millonarios, de turistas, de emigrantes... en el Virginian tocaba cada noche un pianista extraordinario, llamado Novecento, con una té', 'pageCount': 0, 'categories': ['Fiction'], 'averageRating': '', 'thumbnail': '', 'infoLink': 'http://books.google.com.mx/books?id=1ExPSAAACAAJ&dq=isbn:9788433966223&hl=&source=gbs_api'}\n"
     ]
    }
   ],
   "source": [
    "for isbn in isbn_tests:\n",
    "    print(get_basic_info(isbn))"
   ]
  },
  {
   "cell_type": "code",
   "execution_count": 11,
   "metadata": {},
   "outputs": [
    {
     "data": {
      "text/plain": [
       "dict_keys(['title', 'subtitle', 'authors', 'publisher', 'publishedDate', 'description', 'industryIdentifiers', 'readingModes', 'pageCount', 'printType', 'categories', 'maturityRating', 'allowAnonLogging', 'contentVersion', 'panelizationSummary', 'imageLinks', 'language', 'previewLink', 'infoLink', 'canonicalVolumeLink'])"
      ]
     },
     "execution_count": 11,
     "metadata": {},
     "output_type": "execute_result"
    }
   ],
   "source": [
    "book_dict = get_google_book_by_isbn(\"9788433966223\")\n",
    "book_dict.keys()"
   ]
  },
  {
   "cell_type": "code",
   "execution_count": 7,
   "metadata": {},
   "outputs": [
    {
     "name": "stdout",
     "output_type": "stream",
     "text": [
      "title: Novecento\n",
      "subtitle: La leyenda del pianista en el océano\n",
      "authors: ['Alessandro Baricco']\n",
      "publisher: Anagrama\n",
      "publishedDate: 1999-02\n",
      "description: En los años de entreguerras, un transatlántico, el Virginian, recorría las rutas entre Europa y América, con su carga de millonarios, de turistas, de emigrantes... en el Virginian tocaba cada noche un pianista extraordinario, llamado Novecento, con una té\n",
      "industryIdentifiers: [{'type': 'ISBN_10', 'identifier': '8433966227'}, {'type': 'ISBN_13', 'identifier': '9788433966223'}]\n",
      "readingModes: {'text': False, 'image': False}\n",
      "pageCount: 0\n",
      "printType: BOOK\n",
      "categories: ['Fiction']\n",
      "maturityRating: NOT_MATURE\n",
      "allowAnonLogging: False\n",
      "contentVersion: preview-1.0.0\n",
      "panelizationSummary: {'containsEpubBubbles': False, 'containsImageBubbles': False}\n",
      "imageLinks: {'smallThumbnail': 'http://books.google.com/books/content?id=1ExPSAAACAAJ&printsec=frontcover&img=1&zoom=5&source=gbs_api', 'thumbnail': 'http://books.google.com/books/content?id=1ExPSAAACAAJ&printsec=frontcover&img=1&zoom=1&source=gbs_api'}\n",
      "language: es\n",
      "previewLink: http://books.google.com.mx/books?id=1ExPSAAACAAJ&dq=isbn:9788433966223&hl=&cd=1&source=gbs_api\n",
      "infoLink: http://books.google.com.mx/books?id=1ExPSAAACAAJ&dq=isbn:9788433966223&hl=&source=gbs_api\n",
      "canonicalVolumeLink: https://books.google.com/books/about/Novecento.html?hl=&id=1ExPSAAACAAJ\n"
     ]
    }
   ],
   "source": [
    "for key, value in book_dict.items():\n",
    "    print(f\"{key}: {value}\")"
   ]
  }
 ],
 "metadata": {
  "kernelspec": {
   "display_name": "book-tracker",
   "language": "python",
   "name": "python3"
  },
  "language_info": {
   "codemirror_mode": {
    "name": "ipython",
    "version": 3
   },
   "file_extension": ".py",
   "mimetype": "text/x-python",
   "name": "python",
   "nbconvert_exporter": "python",
   "pygments_lexer": "ipython3",
   "version": "3.10.14"
  }
 },
 "nbformat": 4,
 "nbformat_minor": 2
}
